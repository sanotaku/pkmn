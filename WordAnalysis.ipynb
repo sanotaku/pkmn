{
 "cells": [
  {
   "cell_type": "code",
   "execution_count": 175,
   "id": "21471bdc-bf97-4e57-b555-bdf454b7ec75",
   "metadata": {},
   "outputs": [],
   "source": [
    "from sklearn.feature_extraction.text import TfidfVectorizer\n",
    "from sklearn.metrics.pairwise import cosine_similarity\n",
    "from sklearn.decomposition import PCA\n",
    "import MeCab\n",
    "import numpy as np\n",
    "import pandas as pd\n",
    "import glob\n",
    "import seaborn as sns\n",
    "import matplotlib.pyplot as plt"
   ]
  },
  {
   "cell_type": "code",
   "execution_count": 166,
   "id": "e36ed752-eab6-4248-b68b-a22fc77fc6b3",
   "metadata": {},
   "outputs": [],
   "source": [
    "class MorphologicaAnalysis:\n",
    "    def __init__(self, document_list: list[str]) -> None:\n",
    "        self.mecab: MeCab = MeCab.Tagger(\"-Owakati\")\n",
    "        self.document_list: list[str] = document_list\n",
    "        self.vectors: np.ndarray = self._run_tfid(self.document_list)\n",
    "    \n",
    "    def _run_mecab(self, text: str) -> list:\n",
    "        node = self.mecab.parseToNode(text)\n",
    "    \n",
    "        word_list = []\n",
    "    \n",
    "        while node:\n",
    "            if node.feature.split(',')[0] == '動詞':\n",
    "                word_list.append(node.feature.split(',')[6])\n",
    "            elif node.feature.split(',')[0] == '形容詞':\n",
    "                word_list.append(node.feature.split(',')[6])\n",
    "            else:\n",
    "                word_list.append(node.surface)\n",
    "            node = node.next\n",
    "    \n",
    "        return word_list[1: -1]\n",
    "\n",
    "    def _run_tfid(self, document_list: list[str]) -> None:\n",
    "        vectorizer = TfidfVectorizer(analyzer=self._run_mecab)\n",
    "        vectors = vectorizer.fit_transform(document_list)\n",
    "        return vectors.toarray()\n",
    "\n",
    "    def calcurate_cosine_similarity_dataframe(self, document_id: int) -> pd.DataFrame:\n",
    "        return pd.DataFrame([\n",
    "            self.document_list,\n",
    "            cosine_similarity([self.vectors[document_id]], self.vectors)[0]\n",
    "        ], index=['文書', '類似度']).T.sort_values('類似度', ascending=False)\n",
    "\n",
    "\n",
    "m = MorphologicaAnalysis([\"pythonが大好きです\", \"goが大好きです\", \"pythonが好きです\", \"pythonが嫌いです\"])"
   ]
  },
  {
   "cell_type": "code",
   "execution_count": 167,
   "id": "d62f3283-4fbb-4a15-ba8a-6796828751b3",
   "metadata": {},
   "outputs": [
    {
     "data": {
      "text/html": [
       "<div>\n",
       "<style scoped>\n",
       "    .dataframe tbody tr th:only-of-type {\n",
       "        vertical-align: middle;\n",
       "    }\n",
       "\n",
       "    .dataframe tbody tr th {\n",
       "        vertical-align: top;\n",
       "    }\n",
       "\n",
       "    .dataframe thead th {\n",
       "        text-align: right;\n",
       "    }\n",
       "</style>\n",
       "<table border=\"1\" class=\"dataframe\">\n",
       "  <thead>\n",
       "    <tr style=\"text-align: right;\">\n",
       "      <th></th>\n",
       "      <th>文書</th>\n",
       "      <th>類似度</th>\n",
       "    </tr>\n",
       "  </thead>\n",
       "  <tbody>\n",
       "    <tr>\n",
       "      <th>0</th>\n",
       "      <td>pythonが大好きです</td>\n",
       "      <td>1.0</td>\n",
       "    </tr>\n",
       "    <tr>\n",
       "      <th>1</th>\n",
       "      <td>goが大好きです</td>\n",
       "      <td>0.631654</td>\n",
       "    </tr>\n",
       "    <tr>\n",
       "      <th>2</th>\n",
       "      <td>pythonが好きです</td>\n",
       "      <td>0.543201</td>\n",
       "    </tr>\n",
       "    <tr>\n",
       "      <th>3</th>\n",
       "      <td>pythonが嫌いです</td>\n",
       "      <td>0.543201</td>\n",
       "    </tr>\n",
       "  </tbody>\n",
       "</table>\n",
       "</div>"
      ],
      "text/plain": [
       "             文書       類似度\n",
       "0  pythonが大好きです       1.0\n",
       "1      goが大好きです  0.631654\n",
       "2   pythonが好きです  0.543201\n",
       "3   pythonが嫌いです  0.543201"
      ]
     },
     "execution_count": 167,
     "metadata": {},
     "output_type": "execute_result"
    }
   ],
   "source": [
    "m.calcurate_cosine_similarity_dataframe(0)"
   ]
  },
  {
   "cell_type": "code",
   "execution_count": 168,
   "id": "6533c1fd-c2a8-4497-a238-ffe134f214f1",
   "metadata": {},
   "outputs": [],
   "source": [
    "headlines = []\n",
    "\n",
    "for text_path in glob.glob('./text/topic-news/*.txt'):\n",
    "    with open(text_path, 'r') as f:\n",
    "        headlines.append(f.readlines()[2][:-1])"
   ]
  },
  {
   "cell_type": "code",
   "execution_count": 169,
   "id": "b1ac7a19-1886-40dc-b949-ae12ac76b40a",
   "metadata": {},
   "outputs": [],
   "source": [
    "headline_model = MorphologicaAnalysis(headlines)\n",
    "# headline_model.calcurate_cosine_similarity_dataframe(1).head(10)"
   ]
  },
  {
   "cell_type": "code",
   "execution_count": null,
   "id": "446c54fb-245d-4a42-b639-6325ec9d6a02",
   "metadata": {},
   "outputs": [],
   "source": []
  }
 ],
 "metadata": {
  "kernelspec": {
   "display_name": "Python 3 (ipykernel)",
   "language": "python",
   "name": "python3"
  },
  "language_info": {
   "codemirror_mode": {
    "name": "ipython",
    "version": 3
   },
   "file_extension": ".py",
   "mimetype": "text/x-python",
   "name": "python",
   "nbconvert_exporter": "python",
   "pygments_lexer": "ipython3",
   "version": "3.11.6"
  }
 },
 "nbformat": 4,
 "nbformat_minor": 5
}
